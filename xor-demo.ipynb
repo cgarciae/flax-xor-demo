{
 "cells": [
  {
   "cell_type": "markdown",
   "id": "913371c5",
   "metadata": {},
   "source": [
    "### Create the XOR dataset\n",
    "First, we'll start by creating the classic XOR dataset."
   ]
  },
  {
   "cell_type": "code",
   "execution_count": 1,
   "id": "7091052b-0d93-408b-b021-08ebdd7c3f9d",
   "metadata": {},
   "outputs": [
    {
     "name": "stderr",
     "output_type": "stream",
     "text": [
      "WARNING:absl:No GPU/TPU found, falling back to CPU. (Set TF_CPP_MIN_LOG_LEVEL=0 and rerun for more info.)\n"
     ]
    }
   ],
   "source": [
    "import jax.numpy as jnp\n",
    "import jax\n",
    "\n",
    "X = jnp.array([[0, 0], [0, 1], [1, 0], [1, 1]])\n",
    "Y = jnp.array([0, 1, 1, 0])[:, None]"
   ]
  },
  {
   "cell_type": "markdown",
   "id": "3577dc4c",
   "metadata": {},
   "source": [
    "Note: its very important to add the \"features\" column to `Y` (done via `[:, None]`) as code will not complain but the model will not train without it 😅.\n",
    "\n",
    "\n",
    "### Visualize the dataset\n",
    "Now we will visualize the dataset simply using `matplotlib` for a sanity check."
   ]
  },
  {
   "cell_type": "code",
   "execution_count": 2,
   "id": "1a5bbb2c",
   "metadata": {},
   "outputs": [
    {
     "data": {
      "image/png": "[encoded data removed]",
      "text/plain": [
       "<Figure size 432x288 with 1 Axes>"
      ]
     },
     "metadata": {
      "needs_background": "light"
     },
     "output_type": "display_data"
    }
   ],
   "source": [
    "import matplotlib.pyplot as plt\n",
    "\n",
    "plt.scatter(X[:, 0], X[:, 1], c=Y, s=100);"
   ]
  },
  {
   "cell_type": "markdown",
   "id": "2b696802",
   "metadata": {},
   "source": [
    "### Define an MLP module\n",
    "The model will be a simple MLP with two layers, as history can remind you the XOR cannot be solved by a single layer. To do this we will just use a `linen.Module` and leverage `nn.compact` to make code simpler."
   ]
  },
  {
   "cell_type": "code",
   "execution_count": 3,
   "id": "89f5a42b",
   "metadata": {},
   "outputs": [],
   "source": [
    "import flax.linen as nn\n",
    "\n",
    "class SimpleMLP(nn.Module):\n",
    "    units: int\n",
    "    \n",
    "    @nn.compact\n",
    "    def __call__(self, x: jnp.ndarray) -> jnp.ndarray:\n",
    "        x = nn.Dense(self.units)(x)\n",
    "        x = nn.relu(x)\n",
    "        x = nn.Dense(1)(x)\n",
    "        return x"
   ]
  },
  {
   "cell_type": "markdown",
   "id": "da7d479c",
   "metadata": {},
   "source": [
    "### Create an XOR pytree module\n",
    "\n",
    "Although its not stricly necesary we will create our own `pytree` module to make the code more readable. This module is very similar to Flax's `TrainState`, we will recreate it for pedagogical purposes. "
   ]
  },
  {
   "cell_type": "code",
   "execution_count": 4,
   "id": "f15efcea",
   "metadata": {},
   "outputs": [],
   "source": [
    "from flax import struct\n",
    "from flax.core.frozen_dict import FrozenDict\n",
    "import optax\n",
    "import typing as tp\n",
    "\n",
    "\n",
    "@struct.dataclass\n",
    "class XORModule:\n",
    "    # nodes\n",
    "    params: tp.Optional[FrozenDict]\n",
    "    opt_state: tp.Optional[optax.OptState]\n",
    "\n",
    "    # static \n",
    "    init_fn: tp.Callable[..., FrozenDict] = struct.field(pytree_node=False)\n",
    "    apply_fn: tp.Callable[..., jnp.ndarray] = struct.field(pytree_node=False)\n",
    "    optimizer: optax.GradientTransformation = struct.field(pytree_node=False)\n",
    "\n",
    "    @classmethod\n",
    "    def new(cls, model: nn.Module, optimizer: optax.GradientTransformation) -> \"XORModule\":\n",
    "        return cls(\n",
    "            params=None,\n",
    "            opt_state=None,\n",
    "            init_fn=model.init,\n",
    "            apply_fn=model.apply,\n",
    "            optimizer=optimizer,\n",
    "        )\n",
    "\n",
    "    # this is added automatically by the struct.dataclass decorator\n",
    "    def replace(self, **kwargs) -> \"XORModule\":\n",
    "        ..."
   ]
  },
  {
   "cell_type": "markdown",
   "id": "579e9a38",
   "metadata": {},
   "source": [
    "One thing to note is that `params` and `opt_state` are initialized to `None` as they will be created later. Also, we capture the `Module`s `init` and `apply` as some modules themselves are not hashable.\n",
    "\n",
    "### Define training loop steps\n",
    "\n",
    "We will define a couple of function that will be used in the training loop. Ideally these function's would be direct methods on the `XORModule` but this doesn't play well with Jupyter for documentation purposes. Will will directly `jit` some of them for performance.\n",
    "\n",
    "The first one will be the loss function which we will define using Optax's `sigmoid_binary_cross_entropy`."
   ]
  },
  {
   "cell_type": "code",
   "execution_count": 5,
   "id": "9439b69c",
   "metadata": {},
   "outputs": [],
   "source": [
    "def loss_fn(params: tp.Any, module: XORModule, inputs: jnp.ndarray, labels: jnp.ndarray) -> jnp.ndarray:\n",
    "    logits = module.apply_fn({\"params\": params}, inputs)\n",
    "    return jnp.mean(optax.sigmoid_binary_cross_entropy(logits, labels))"
   ]
  },
  {
   "cell_type": "markdown",
   "id": "2cc08f4a",
   "metadata": {},
   "source": [
    "Now to initialize the model's parameters we will create an `init_step` function."
   ]
  },
  {
   "cell_type": "code",
   "execution_count": 6,
   "id": "b351f914",
   "metadata": {},
   "outputs": [],
   "source": [
    "@jax.jit\n",
    "def init_step(key: jnp.ndarray, module: XORModule, x: jnp.ndarray) -> XORModule:\n",
    "    params = module.init_fn(key, x)[\"params\"]\n",
    "    opt_state = module.optimizer.init(params)\n",
    "\n",
    "    return module.replace(params=params, opt_state=opt_state)"
   ]
  },
  {
   "cell_type": "markdown",
   "id": "631805cf",
   "metadata": {},
   "source": [
    "Next, the `train_step` function will just `jax.grad` over `loss_fn` to get the gradients and update the `params` and `opt_state`."
   ]
  },
  {
   "cell_type": "code",
   "execution_count": 7,
   "id": "39fd67af",
   "metadata": {},
   "outputs": [],
   "source": [
    "@jax.jit\n",
    "def train_step(module: XORModule, inputs: jnp.ndarray, labels: jnp.ndarray) -> XORModule:\n",
    "    assert module.params is not None\n",
    "    assert module.opt_state is not None\n",
    "\n",
    "    grads = jax.grad(loss_fn)(module.params, module, inputs, labels)\n",
    "\n",
    "    updates, opt_state = module.optimizer.update(grads, module.opt_state, module.params)\n",
    "    params = optax.apply_updates(module.params, updates)\n",
    "\n",
    "    return module.replace(params=params, opt_state=opt_state)\n"
   ]
  },
  {
   "cell_type": "markdown",
   "id": "dfb7649f",
   "metadata": {},
   "source": [
    "The `test_step` fun will simplfy calculate the loss."
   ]
  },
  {
   "cell_type": "code",
   "execution_count": 8,
   "id": "7f77b0ed",
   "metadata": {},
   "outputs": [],
   "source": [
    "@jax.jit\n",
    "def test_step(module: XORModule, inputs: jnp.ndarray, labels: jnp.ndarray) -> jnp.ndarray:\n",
    "    assert module.params is not None\n",
    "    return loss_fn(module.params, module, inputs, labels)"
   ]
  },
  {
   "cell_type": "markdown",
   "id": "9106736e",
   "metadata": {},
   "source": [
    "And finally `pred_step` will perform the forward pass and return the predictions."
   ]
  },
  {
   "cell_type": "code",
   "execution_count": 9,
   "id": "da672a47",
   "metadata": {},
   "outputs": [],
   "source": [
    "@jax.jit\n",
    "def pred_step(module: XORModule, inputs: jnp.ndarray) -> jnp.ndarray:\n",
    "    assert module.params is not None\n",
    "    return module.apply_fn({\"params\": module.params}, inputs)"
   ]
  },
  {
   "cell_type": "markdown",
   "id": "198c3887",
   "metadata": {},
   "source": [
    "### Training loop\n",
    "Now we will instantiate the `XORModule` and define the training loop by calling `train_step` and `test_step`. Will will capture the loss every once in a while and plot the learning curve at the end."
   ]
  },
  {
   "cell_type": "code",
   "execution_count": 10,
   "id": "a6618109",
   "metadata": {},
   "outputs": [
    {
     "data": {
      "image/png": "[encoded data removed]",
      "text/plain": [
       "<Figure size 432x288 with 1 Axes>"
      ]
     },
     "metadata": {
      "needs_background": "light"
     },
     "output_type": "display_data"
    }
   ],
   "source": [
    "\n",
    "module = XORModule.new(\n",
    "    model=SimpleMLP(2), \n",
    "    optimizer=optax.adamw(4e-3),\n",
    ")\n",
    "\n",
    "key = jax.random.PRNGKey(42)\n",
    "epochs = 1000\n",
    "eval_epochs = 100\n",
    "\n",
    "# initialize\n",
    "module = init_step(key, module, X)\n",
    "history = []\n",
    "for epoch in range(epochs):\n",
    "    # full batch\n",
    "    module = train_step(module, X, Y)\n",
    "\n",
    "    if epoch % eval_epochs == 0:\n",
    "        loss = test_step(module, X, Y)\n",
    "        history.append(loss)\n",
    "\n",
    "plt.plot(history);"
   ]
  },
  {
   "cell_type": "markdown",
   "metadata": {},
   "source": [
    "### Visualize results\n",
    "\n",
    "To finish lets visualize the decision boundary by creating a meshgrid and creating a `contourf` plot."
   ]
  },
  {
   "cell_type": "code",
   "execution_count": 11,
   "id": "2575d2db",
   "metadata": {},
   "outputs": [
    {
     "data": {
      "image/png": "[encoded data removed]",
      "text/plain": [
       "<Figure size 432x288 with 1 Axes>"
      ]
     },
     "metadata": {
      "needs_background": "light"
     },
     "output_type": "display_data"
    }
   ],
   "source": [
    "X0, X1 = jnp.meshgrid(\n",
    "    jnp.linspace(-0.1, 1.1, 100),\n",
    "    jnp.linspace(-0.1, 1.1, 100),\n",
    ")\n",
    "X01 = jnp.stack([X0, X1], axis=-1)\n",
    "\n",
    "# get the predictions\n",
    "preds = pred_step(module, X01)\n",
    "preds = preds[..., 0] > 0\n",
    "\n",
    "# plot data\n",
    "plt.scatter(X[:, 0], X[:, 1], c=Y, s=100, edgecolors='black');\n",
    "# plot decision boundary\n",
    "plt.contourf(X0, X1, preds, alpha=0.7);"
   ]
  }
 ],
 "metadata": {
  "kernelspec": {
   "display_name": "Python 3 (ipykernel)",
   "language": "python",
   "name": "python3"
  },
  "language_info": {
   "codemirror_mode": {
    "name": "ipython",
    "version": 3
   },
   "file_extension": ".py",
   "mimetype": "text/x-python",
   "name": "python",
   "nbconvert_exporter": "python",
   "pygments_lexer": "ipython3",
   "version": "3.8.11"
  }
 },
 "nbformat": 4,
 "nbformat_minor": 5
}
